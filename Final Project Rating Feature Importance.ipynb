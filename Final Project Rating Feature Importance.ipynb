{
 "cells": [
  {
   "cell_type": "markdown",
   "metadata": {},
   "source": [
    "# Rating Prediction and Feature Importance\n",
    "\n",
    "> Rating prediction dilakukan untuk mengetahui data-data order yang tidak memiliki rating. Terkadang beberapa customer tidak mengisi review ataupun rating setelah melakukan pembelian, hal tersebut terkadang dapat menimbulkan pertanyaan apakah customer puas atau tidak dengan pelayanan yang diberikan oleh perusahan. \n",
    "\n",
    "> Dengan menggunakan fitur-fitur seperti halnya timestamp delivery, lokasi customer, lokasi seller, dan payment type, maka akan dilakukan modelling untuk memprediksi kemungkinan rating yang akan diberikan oleh customer berdasarkan pelayanan olist. Selain itu tiap fitur juga akan dilihat feature importancenya untuk dapat dijadikan insight terkait aspek apa yang perlu diperhatikan lebih dalam agar meningkatkan kepuasan pelanggan"
   ]
  },
  {
   "cell_type": "code",
   "execution_count": 129,
   "metadata": {},
   "outputs": [],
   "source": [
    "import pandas as pd\n",
    "import numpy as np\n",
    "import matplotlib.pyplot as plt\n",
    "import seaborn as sns\n",
    "from datetime import datetime\n",
    "from pandas import Series\n",
    "import itertools\n",
    "import warnings                 \n",
    "warnings.filterwarnings(\"ignore\")"
   ]
  },
  {
   "cell_type": "code",
   "execution_count": 91,
   "metadata": {},
   "outputs": [],
   "source": [
    "df_cust = pd.read_csv('olist_customers_dataset.csv')\n",
    "df_geo = pd.read_csv('olist_geolocation_dataset.csv')\n",
    "df_order = pd.read_csv('olist_order_items_dataset.csv')\n",
    "df_payment = pd.read_csv('olist_order_payments_dataset.csv')\n",
    "df_review = pd.read_csv('olist_order_reviews_dataset.csv') #belum clean\n",
    "df_delivery = pd.read_csv('olist_orders_dataset.csv')\n",
    "df_product = pd.read_csv('olist_products_dataset.csv') #belum clean\n",
    "df_seller = pd.read_csv('olist_sellers_dataset.csv')\n",
    "df_catprod = pd.read_csv('product_category_name_translation.csv')"
   ]
  },
  {
   "cell_type": "code",
   "execution_count": 92,
   "metadata": {},
   "outputs": [],
   "source": [
    "all_table = [df_cust, df_geo, df_order, df_payment, df_review, df_delivery, df_product, df_seller, df_catprod]\n",
    "name_table = ['Data Customer', 'Data Geografis', 'Data Order', 'Data Payment', 'Data Review', 'Data Delivery', 'Data Produk', 'Data Seller','Data Kategori Produk']"
   ]
  },
  {
   "cell_type": "markdown",
   "metadata": {},
   "source": [
    "# Pre Processing\n",
    "\n",
    "> Proses preprocessing yang dilakukan antara lain:\n",
    "- Menggabungkan data untuk mendapatkan data payment, data lokasi seller, data lokasi customer, data timestamp tiap kegiatan, dan data target pengiriman\n",
    "- Mengubah data timestamp dengan type object menjadi data dengan type datetime\n",
    "- Mencari selisih dari tiap timestamp\n",
    "- Mencari selisih waktu target dengan waktu aktual\n",
    "- Mengkategorikan apakah seller dan customer berasal dari kota yang sama atau tidak"
   ]
  },
  {
   "cell_type": "code",
   "execution_count": 93,
   "metadata": {},
   "outputs": [],
   "source": [
    "df_all = df_order.merge(df_delivery, on='order_id')\n",
    "df_all = df_all.merge(df_review, on='order_id', how='inner')\n",
    "df_all = df_all.merge(df_seller[['seller_id','seller_city']], on='seller_id')\n",
    "df_all = df_all.merge(df_cust[['customer_id','customer_city']], on='customer_id')\n",
    "df_all = df_all.merge(df_payment[['order_id','payment_type']], on='order_id')\n",
    "df_all = df_all.drop(columns=['review_comment_title','review_comment_message'])\n",
    "df_all = df_all.dropna()"
   ]
  },
  {
   "cell_type": "code",
   "execution_count": 94,
   "metadata": {},
   "outputs": [],
   "source": [
    "df_all_clean = df_all[['order_id','customer_city','seller_city','payment_type','order_purchase_timestamp',\n",
    "                       'order_approved_at','order_delivered_carrier_date','order_delivered_customer_date',\n",
    "                       'order_estimated_delivery_date','shipping_limit_date','review_score']]"
   ]
  },
  {
   "cell_type": "code",
   "execution_count": 95,
   "metadata": {},
   "outputs": [],
   "source": [
    "def apply_city(x):\n",
    "    if x['customer_city']==x['seller_city']:\n",
    "        return 1\n",
    "    else:\n",
    "        return 0\n",
    "\n",
    "df_all_clean['cust_seller_same_city'] = df_all_clean.apply(apply_city,axis=1)"
   ]
  },
  {
   "cell_type": "code",
   "execution_count": 96,
   "metadata": {},
   "outputs": [],
   "source": [
    "df_all_clean['order_purchase_timestamp'] = pd.to_datetime(df_all_clean['order_purchase_timestamp'],format='%Y-%m-%d %H:%M')\n",
    "df_all_clean['order_approved_at'] = pd.to_datetime(df_all_clean['order_approved_at'],format='%Y-%m-%d %H:%M')\n",
    "df_all_clean['order_delivered_carrier_date'] = pd.to_datetime(df_all_clean['order_delivered_carrier_date'],format='%Y-%m-%d %H:%M')\n",
    "df_all_clean['order_delivered_customer_date'] = pd.to_datetime(df_all_clean['order_delivered_customer_date'],format='%Y-%m-%d %H:%M')\n",
    "df_all_clean['order_estimated_delivery_date'] = pd.to_datetime(df_all_clean['order_estimated_delivery_date'],format='%Y-%m-%d %H:%M')\n",
    "df_all_clean['shipping_limit_date'] = pd.to_datetime(df_all_clean['shipping_limit_date'],format='%Y-%m-%d %H:%M')"
   ]
  },
  {
   "cell_type": "code",
   "execution_count": 97,
   "metadata": {},
   "outputs": [],
   "source": [
    "df_all_clean['late_shipping'] = df_all_clean['shipping_limit_date']-df_all_clean['order_delivered_carrier_date']"
   ]
  },
  {
   "cell_type": "code",
   "execution_count": 98,
   "metadata": {},
   "outputs": [],
   "source": [
    "date_list = []\n",
    "for item in df_all_clean['late_shipping']:\n",
    "    date_list.append(str(item))\n",
    "    \n",
    "df_all_clean['late_shipping'] = date_list\n",
    "\n",
    "date_clean = []\n",
    "for item in df_all_clean['late_shipping']:\n",
    "    date_clean.append(int(item.split()[0]))\n",
    "\n",
    "df_all_clean['late_shipping'] = date_clean   \n",
    "df_all_clean = df_all_clean.drop(columns=['customer_city','seller_city','shipping_limit_date'])"
   ]
  },
  {
   "cell_type": "code",
   "execution_count": 99,
   "metadata": {},
   "outputs": [],
   "source": [
    "df_all_clean['diff_purc_app'] = df_all_clean['order_approved_at']-df_all_clean['order_purchase_timestamp']\n",
    "df_all_clean['diff_app_delcar'] = df_all_clean['order_delivered_carrier_date']-df_all_clean['order_approved_at']\n",
    "df_all_clean['diff_delcar_delcus'] = df_all_clean['order_delivered_customer_date']-df_all_clean['order_delivered_carrier_date']\n",
    "\n",
    "date_pur = []\n",
    "for item in df_all_clean['diff_purc_app']:\n",
    "    date_pur.append(item.total_seconds())\n",
    "    \n",
    "date_app = []\n",
    "for item in df_all_clean['diff_app_delcar']:\n",
    "    date_app.append(item.total_seconds())\n",
    "    \n",
    "date_del = []\n",
    "for item in df_all_clean['diff_delcar_delcus']:\n",
    "    date_del.append(item.total_seconds())\n",
    "\n",
    "df_all_clean['diff_purc_app'] = date_pur\n",
    "df_all_clean['diff_app_delcar']=date_app\n",
    "df_all_clean['diff_delcar_delcus'] = date_del"
   ]
  },
  {
   "cell_type": "code",
   "execution_count": 100,
   "metadata": {},
   "outputs": [],
   "source": [
    "df_all_clean['late_deliv'] = df_all_clean['order_estimated_delivery_date']-df_all_clean['order_delivered_customer_date']\n",
    "date_targ = []\n",
    "for item in df_all_clean['late_deliv']:\n",
    "    date_targ.append(str(item))\n",
    "    \n",
    "df_all_clean['late_deliv'] = date_targ\n",
    "\n",
    "date_targ_clean = []\n",
    "for item in df_all_clean['late_deliv']:\n",
    "    date_targ_clean.append(int(item.split()[0]))\n",
    "\n",
    "df_all_clean['late_deliv'] = date_targ_clean   "
   ]
  },
  {
   "cell_type": "code",
   "execution_count": 101,
   "metadata": {},
   "outputs": [],
   "source": [
    "df_all_clean = df_all_clean.drop(columns=['order_purchase_timestamp','order_approved_at','order_delivered_carrier_date',\n",
    "                           'order_delivered_customer_date','order_estimated_delivery_date'])"
   ]
  },
  {
   "cell_type": "code",
   "execution_count": 102,
   "metadata": {
    "scrolled": true
   },
   "outputs": [
    {
     "name": "stdout",
     "output_type": "stream",
     "text": [
      "<class 'pandas.core.frame.DataFrame'>\n",
      "Int64Index: 115711 entries, 0 to 118314\n",
      "Data columns (total 9 columns):\n",
      "order_id                 115711 non-null object\n",
      "payment_type             115711 non-null object\n",
      "review_score             115711 non-null int64\n",
      "cust_seller_same_city    115711 non-null int64\n",
      "late_shipping            115711 non-null int64\n",
      "diff_purc_app            115711 non-null float64\n",
      "diff_app_delcar          115711 non-null float64\n",
      "diff_delcar_delcus       115711 non-null float64\n",
      "late_deliv               115711 non-null int64\n",
      "dtypes: float64(3), int64(4), object(2)\n",
      "memory usage: 8.8+ MB\n"
     ]
    }
   ],
   "source": [
    "df_all_clean.info()"
   ]
  },
  {
   "cell_type": "code",
   "execution_count": 103,
   "metadata": {},
   "outputs": [],
   "source": [
    "df_one_hot = pd.get_dummies(df_all_clean['payment_type'],drop_first=True)\n",
    "df_all_clean = pd.concat([df_all_clean, df_one_hot], axis=1)\n",
    "df_all_clean = df_all_clean.drop(['order_id','payment_type'],axis=1)"
   ]
  },
  {
   "cell_type": "code",
   "execution_count": 104,
   "metadata": {},
   "outputs": [
    {
     "name": "stdout",
     "output_type": "stream",
     "text": [
      "<class 'pandas.core.frame.DataFrame'>\n",
      "Int64Index: 115711 entries, 0 to 118314\n",
      "Data columns (total 10 columns):\n",
      "review_score             115711 non-null int64\n",
      "cust_seller_same_city    115711 non-null int64\n",
      "late_shipping            115711 non-null int64\n",
      "diff_purc_app            115711 non-null float64\n",
      "diff_app_delcar          115711 non-null float64\n",
      "diff_delcar_delcus       115711 non-null float64\n",
      "late_deliv               115711 non-null int64\n",
      "credit_card              115711 non-null uint8\n",
      "debit_card               115711 non-null uint8\n",
      "voucher                  115711 non-null uint8\n",
      "dtypes: float64(3), int64(4), uint8(3)\n",
      "memory usage: 7.4 MB\n"
     ]
    }
   ],
   "source": [
    "df_all_clean.info()"
   ]
  },
  {
   "cell_type": "code",
   "execution_count": 105,
   "metadata": {},
   "outputs": [],
   "source": [
    "def apply_score(x):\n",
    "    if x['review_score']==1:\n",
    "        return 'Bad'\n",
    "    if x['review_score']==5:\n",
    "        return 'Good'\n",
    "    else:\n",
    "        return 'Average'"
   ]
  },
  {
   "cell_type": "code",
   "execution_count": 106,
   "metadata": {},
   "outputs": [],
   "source": [
    "df_all_clean['review_score'] =df_all_clean.apply(apply_score,axis=1)"
   ]
  },
  {
   "cell_type": "code",
   "execution_count": null,
   "metadata": {},
   "outputs": [],
   "source": [
    "df_all_clean.head()"
   ]
  },
  {
   "cell_type": "code",
   "execution_count": null,
   "metadata": {},
   "outputs": [],
   "source": [
    "df_all_old = df_all[['order_id','customer_city','seller_city','payment_type','order_purchase_timestamp',\n",
    "                       'order_approved_at','order_delivered_carrier_date','order_delivered_customer_date',\n",
    "                       'order_estimated_delivery_date','shipping_limit_date','review_score']]\n",
    "df_all_old.head()"
   ]
  },
  {
   "cell_type": "code",
   "execution_count": 107,
   "metadata": {},
   "outputs": [
    {
     "data": {
      "text/plain": [
       "Good       0.571510\n",
       "Average    0.310887\n",
       "Bad        0.117603\n",
       "Name: review_score, dtype: float64"
      ]
     },
     "execution_count": 107,
     "metadata": {},
     "output_type": "execute_result"
    }
   ],
   "source": [
    "df_all_clean['review_score'].value_counts(normalize=True)"
   ]
  },
  {
   "cell_type": "markdown",
   "metadata": {},
   "source": [
    "# Standard Scaller"
   ]
  },
  {
   "cell_type": "code",
   "execution_count": 108,
   "metadata": {},
   "outputs": [],
   "source": [
    "from sklearn.linear_model import LogisticRegression\n",
    "from sklearn.tree import DecisionTreeClassifier\n",
    "from sklearn.ensemble import RandomForestClassifier,GradientBoostingClassifier\n",
    "from sklearn.svm import SVC\n",
    "from sklearn.neighbors import KNeighborsClassifier\n",
    "from sklearn.model_selection import cross_val_score\n",
    "from sklearn.model_selection import train_test_split\n",
    "from sklearn.metrics import classification_report\n",
    "from imblearn.over_sampling import SMOTE, RandomOverSampler\n",
    "from sklearn.metrics import accuracy_score,f1_score\n",
    "from sklearn.preprocessing import StandardScaler\n",
    "from xgboost import XGBClassifier"
   ]
  },
  {
   "cell_type": "code",
   "execution_count": 109,
   "metadata": {},
   "outputs": [],
   "source": [
    "x = df_all_clean.drop(columns='review_score')\n",
    "y = df_all_clean['review_score']"
   ]
  },
  {
   "cell_type": "code",
   "execution_count": 110,
   "metadata": {},
   "outputs": [],
   "source": [
    "scaler = StandardScaler()\n",
    "scaler.fit(x)\n",
    "x_scaled = pd.DataFrame(scaler.transform(x),columns=x.columns)"
   ]
  },
  {
   "cell_type": "markdown",
   "metadata": {},
   "source": [
    "# Data Split and Modelling"
   ]
  },
  {
   "cell_type": "code",
   "execution_count": 115,
   "metadata": {},
   "outputs": [],
   "source": [
    "model = [LogisticRegression,DecisionTreeClassifier,RandomForestClassifier,GradientBoostingClassifier,SVC,KNeighborsClassifier,XGBClassifier]\n",
    "cv_score = []\n",
    "for item in model:\n",
    "    score = cross_val_score(item(), x_scaled,y,cv=3)\n",
    "    cv_score.append(score.mean())"
   ]
  },
  {
   "cell_type": "code",
   "execution_count": 116,
   "metadata": {},
   "outputs": [],
   "source": [
    "data_cv = pd.DataFrame(cv_score)\n",
    "data_cv['model']= ['LogisticRegression','DecisionTreeClassifier','RandomForestClassifier',\n",
    "                   'GradientBoostingClassifier','SVC','KNeighborsClassifier','XGBClassifier']"
   ]
  },
  {
   "cell_type": "code",
   "execution_count": 117,
   "metadata": {},
   "outputs": [],
   "source": [
    "data_cv.rename(columns={0: 'Score', 'model': 'Name'}, inplace=True)"
   ]
  },
  {
   "cell_type": "code",
   "execution_count": 118,
   "metadata": {
    "scrolled": true
   },
   "outputs": [
    {
     "data": {
      "text/plain": [
       "<matplotlib.axes._subplots.AxesSubplot at 0x1a34e5a2b0>"
      ]
     },
     "execution_count": 118,
     "metadata": {},
     "output_type": "execute_result"
    },
    {
     "data": {
      "image/png": "[encoded data removed]",
      "text/plain": [
       "<Figure size 864x360 with 1 Axes>"
      ]
     },
     "metadata": {
      "needs_background": "light"
     },
     "output_type": "display_data"
    }
   ],
   "source": [
    "plt.figure(figsize=(12,5))\n",
    "sns.barplot(x=data_cv['Score'],y=data_cv['Name'])"
   ]
  },
  {
   "cell_type": "markdown",
   "metadata": {},
   "source": [
    "> Pada grafik di atas dapat dilihat bahwa cv_score terbesar dihasilkan oleh model XGBOOST. Maka selanjutnya model dan optimasi yang dilakukan akan menggunakan model XGBOOST."
   ]
  },
  {
   "cell_type": "markdown",
   "metadata": {},
   "source": [
    "# Model Optimization (using XGBOOST)"
   ]
  },
  {
   "cell_type": "code",
   "execution_count": 120,
   "metadata": {},
   "outputs": [],
   "source": [
    "X_train,X_test,y_train,y_test = train_test_split(x_scaled,y,random_state=101,test_size=0.2)"
   ]
  },
  {
   "cell_type": "code",
   "execution_count": 121,
   "metadata": {},
   "outputs": [],
   "source": [
    "mod = XGBClassifier(random_state=101)"
   ]
  },
  {
   "cell_type": "markdown",
   "metadata": {},
   "source": [
    "## modelling with imbalance data terget"
   ]
  },
  {
   "cell_type": "code",
   "execution_count": 122,
   "metadata": {
    "scrolled": false
   },
   "outputs": [
    {
     "data": {
      "text/plain": [
       "XGBClassifier(base_score=0.5, booster='gbtree', colsample_bylevel=1,\n",
       "              colsample_bynode=1, colsample_bytree=1, gamma=0,\n",
       "              learning_rate=0.1, max_delta_step=0, max_depth=3,\n",
       "              min_child_weight=1, missing=None, n_estimators=100, n_jobs=1,\n",
       "              nthread=None, objective='multi:softprob', random_state=101,\n",
       "              reg_alpha=0, reg_lambda=1, scale_pos_weight=1, seed=None,\n",
       "              silent=None, subsample=1, verbosity=1)"
      ]
     },
     "execution_count": 122,
     "metadata": {},
     "output_type": "execute_result"
    }
   ],
   "source": [
    "mod.fit(X_train,y_train)"
   ]
  },
  {
   "cell_type": "code",
   "execution_count": 123,
   "metadata": {},
   "outputs": [
    {
     "name": "stdout",
     "output_type": "stream",
     "text": [
      "              precision    recall  f1-score   support\n",
      "\n",
      "     Average       0.46      0.05      0.08      7171\n",
      "         Bad       0.64      0.27      0.38      2735\n",
      "        Good       0.60      0.97      0.74     13237\n",
      "\n",
      "    accuracy                           0.60     23143\n",
      "   macro avg       0.57      0.43      0.40     23143\n",
      "weighted avg       0.56      0.60      0.50     23143\n",
      "\n"
     ]
    }
   ],
   "source": [
    "prediction = mod.predict(X_test)\n",
    "print(classification_report(y_test,prediction))"
   ]
  },
  {
   "cell_type": "code",
   "execution_count": 124,
   "metadata": {},
   "outputs": [
    {
     "name": "stdout",
     "output_type": "stream",
     "text": [
      "              precision    recall  f1-score   support\n",
      "\n",
      "     Average       0.49      0.04      0.08     28802\n",
      "         Bad       0.66      0.28      0.39     10873\n",
      "        Good       0.60      0.97      0.75     52893\n",
      "\n",
      "    accuracy                           0.60     92568\n",
      "   macro avg       0.58      0.43      0.41     92568\n",
      "weighted avg       0.57      0.60      0.50     92568\n",
      "\n"
     ]
    }
   ],
   "source": [
    "prediction = mod.predict(X_train)\n",
    "print(classification_report(y_train,prediction))"
   ]
  },
  {
   "cell_type": "markdown",
   "metadata": {},
   "source": [
    "## modelling with balance data target"
   ]
  },
  {
   "cell_type": "markdown",
   "metadata": {},
   "source": [
    "**SMOTE**"
   ]
  },
  {
   "cell_type": "code",
   "execution_count": 138,
   "metadata": {},
   "outputs": [],
   "source": [
    "sm = SMOTE(random_state=101)\n",
    "X_sm, y_sm = sm.fit_sample(X_train,y_train)\n",
    "X_sm = pd.DataFrame(X_sm,columns=x.columns)"
   ]
  },
  {
   "cell_type": "code",
   "execution_count": 148,
   "metadata": {},
   "outputs": [
    {
     "data": {
      "text/plain": [
       "XGBClassifier(base_score=0.5, booster='gbtree', colsample_bylevel=1,\n",
       "              colsample_bynode=1, colsample_bytree=1, gamma=0,\n",
       "              learning_rate=0.1, max_delta_step=0, max_depth=3,\n",
       "              min_child_weight=1, missing=None, n_estimators=100, n_jobs=1,\n",
       "              nthread=None, objective='multi:softprob', random_state=101,\n",
       "              reg_alpha=0, reg_lambda=1, scale_pos_weight=1, seed=None,\n",
       "              silent=None, subsample=1, verbosity=1)"
      ]
     },
     "execution_count": 148,
     "metadata": {},
     "output_type": "execute_result"
    }
   ],
   "source": [
    "mod.fit(X_sm,y_sm)"
   ]
  },
  {
   "cell_type": "code",
   "execution_count": 149,
   "metadata": {
    "scrolled": true
   },
   "outputs": [
    {
     "name": "stdout",
     "output_type": "stream",
     "text": [
      "              precision    recall  f1-score   support\n",
      "\n",
      "     Average       0.38      0.36      0.37      7171\n",
      "         Bad       0.56      0.31      0.40      2735\n",
      "        Good       0.64      0.71      0.67     13237\n",
      "\n",
      "    accuracy                           0.56     23143\n",
      "   macro avg       0.52      0.46      0.48     23143\n",
      "weighted avg       0.55      0.56      0.55     23143\n",
      "\n"
     ]
    }
   ],
   "source": [
    "prediction = mod.predict(X_test)\n",
    "print(classification_report(y_test,prediction))"
   ]
  },
  {
   "cell_type": "markdown",
   "metadata": {},
   "source": [
    "**ROS**"
   ]
  },
  {
   "cell_type": "code",
   "execution_count": 150,
   "metadata": {},
   "outputs": [],
   "source": [
    "ros = RandomOverSampler(random_state=101)\n",
    "X_rs, y_rs = ros.fit_sample(X_train,y_train)\n",
    "X_rs = pd.DataFrame(X_rs,columns=x.columns)"
   ]
  },
  {
   "cell_type": "code",
   "execution_count": 151,
   "metadata": {},
   "outputs": [
    {
     "data": {
      "text/plain": [
       "XGBClassifier(base_score=0.5, booster='gbtree', colsample_bylevel=1,\n",
       "              colsample_bynode=1, colsample_bytree=1, gamma=0,\n",
       "              learning_rate=0.1, max_delta_step=0, max_depth=3,\n",
       "              min_child_weight=1, missing=None, n_estimators=100, n_jobs=1,\n",
       "              nthread=None, objective='multi:softprob', random_state=101,\n",
       "              reg_alpha=0, reg_lambda=1, scale_pos_weight=1, seed=None,\n",
       "              silent=None, subsample=1, verbosity=1)"
      ]
     },
     "execution_count": 151,
     "metadata": {},
     "output_type": "execute_result"
    }
   ],
   "source": [
    "mod.fit(X_rs,y_rs)"
   ]
  },
  {
   "cell_type": "code",
   "execution_count": 152,
   "metadata": {
    "scrolled": true
   },
   "outputs": [
    {
     "name": "stdout",
     "output_type": "stream",
     "text": [
      "              precision    recall  f1-score   support\n",
      "\n",
      "     Average       0.37      0.39      0.38      7171\n",
      "         Bad       0.50      0.33      0.40      2735\n",
      "        Good       0.64      0.68      0.66     13237\n",
      "\n",
      "    accuracy                           0.55     23143\n",
      "   macro avg       0.51      0.46      0.48     23143\n",
      "weighted avg       0.54      0.55      0.54     23143\n",
      "\n"
     ]
    }
   ],
   "source": [
    "prediction = mod.predict(X_test)\n",
    "print(classification_report(y_test,prediction))"
   ]
  },
  {
   "cell_type": "markdown",
   "metadata": {},
   "source": [
    "> Tujuan optimasi kali ini adalah untuk mendapatkan nilai recall bad/average yang lebih baik agar lebih banyak persentase aktual rating bad dan average yang tertebak benar. Hal ini agar order yang terprediksi bad/average dapat lebih besar peluangnya untuk tertebak benar dan dilakukan evaluasi lanjutan ke internal perusahaan.\n",
    "\n",
    "> Sehubungan dengan tujuan untuk optimasi nilai recall bad dan average, maka handling imbalance data yang akan digunakan adalah ROS dimana nilai dari ROS untuk recall avg dan bad lebih besar bila dibandingkan dengan smote"
   ]
  },
  {
   "cell_type": "markdown",
   "metadata": {},
   "source": [
    "# Model Optimization (Finding best param using hyperparameter)"
   ]
  },
  {
   "cell_type": "code",
   "execution_count": 153,
   "metadata": {},
   "outputs": [],
   "source": [
    "from sklearn.model_selection import GridSearchCV"
   ]
  },
  {
   "cell_type": "code",
   "execution_count": 160,
   "metadata": {},
   "outputs": [],
   "source": [
    "param = {'learning_rate' : [0.1,0.2,0.3],'max_depth':[4,5,6]}"
   ]
  },
  {
   "cell_type": "code",
   "execution_count": 161,
   "metadata": {},
   "outputs": [],
   "source": [
    "grid = GridSearchCV(XGBClassifier(),param,cv=3,verbose=3)"
   ]
  },
  {
   "cell_type": "code",
   "execution_count": 163,
   "metadata": {},
   "outputs": [
    {
     "name": "stdout",
     "output_type": "stream",
     "text": [
      "Fitting 3 folds for each of 9 candidates, totalling 27 fits\n"
     ]
    },
    {
     "name": "stderr",
     "output_type": "stream",
     "text": [
      "[Parallel(n_jobs=1)]: Using backend SequentialBackend with 1 concurrent workers.\n"
     ]
    },
    {
     "name": "stdout",
     "output_type": "stream",
     "text": [
      "[CV] learning_rate=0.1, max_depth=4 ..................................\n",
      "[CV] ...... learning_rate=0.1, max_depth=4, score=0.477, total=  24.0s\n",
      "[CV] learning_rate=0.1, max_depth=4 ..................................\n"
     ]
    },
    {
     "name": "stderr",
     "output_type": "stream",
     "text": [
      "[Parallel(n_jobs=1)]: Done   1 out of   1 | elapsed:   24.0s remaining:    0.0s\n"
     ]
    },
    {
     "name": "stdout",
     "output_type": "stream",
     "text": [
      "[CV] ...... learning_rate=0.1, max_depth=4, score=0.477, total=  22.3s\n",
      "[CV] learning_rate=0.1, max_depth=4 ..................................\n"
     ]
    },
    {
     "name": "stderr",
     "output_type": "stream",
     "text": [
      "[Parallel(n_jobs=1)]: Done   2 out of   2 | elapsed:   46.4s remaining:    0.0s\n"
     ]
    },
    {
     "name": "stdout",
     "output_type": "stream",
     "text": [
      "[CV] ...... learning_rate=0.1, max_depth=4, score=0.480, total=  22.2s\n",
      "[CV] learning_rate=0.1, max_depth=5 ..................................\n",
      "[CV] ...... learning_rate=0.1, max_depth=5, score=0.488, total=  26.1s\n",
      "[CV] learning_rate=0.1, max_depth=5 ..................................\n",
      "[CV] ...... learning_rate=0.1, max_depth=5, score=0.488, total=  26.3s\n",
      "[CV] learning_rate=0.1, max_depth=5 ..................................\n",
      "[CV] ...... learning_rate=0.1, max_depth=5, score=0.494, total=  26.3s\n",
      "[CV] learning_rate=0.1, max_depth=6 ..................................\n",
      "[CV] ...... learning_rate=0.1, max_depth=6, score=0.505, total=  30.7s\n",
      "[CV] learning_rate=0.1, max_depth=6 ..................................\n",
      "[CV] ...... learning_rate=0.1, max_depth=6, score=0.509, total=  30.6s\n",
      "[CV] learning_rate=0.1, max_depth=6 ..................................\n",
      "[CV] ...... learning_rate=0.1, max_depth=6, score=0.512, total=  30.7s\n",
      "[CV] learning_rate=0.2, max_depth=4 ..................................\n",
      "[CV] ...... learning_rate=0.2, max_depth=4, score=0.494, total=  22.0s\n",
      "[CV] learning_rate=0.2, max_depth=4 ..................................\n",
      "[CV] ...... learning_rate=0.2, max_depth=4, score=0.493, total=  22.2s\n",
      "[CV] learning_rate=0.2, max_depth=4 ..................................\n",
      "[CV] ...... learning_rate=0.2, max_depth=4, score=0.496, total=  22.1s\n",
      "[CV] learning_rate=0.2, max_depth=5 ..................................\n",
      "[CV] ...... learning_rate=0.2, max_depth=5, score=0.511, total=  26.1s\n",
      "[CV] learning_rate=0.2, max_depth=5 ..................................\n",
      "[CV] ...... learning_rate=0.2, max_depth=5, score=0.512, total=  26.2s\n",
      "[CV] learning_rate=0.2, max_depth=5 ..................................\n",
      "[CV] ...... learning_rate=0.2, max_depth=5, score=0.521, total=  26.3s\n",
      "[CV] learning_rate=0.2, max_depth=6 ..................................\n",
      "[CV] ...... learning_rate=0.2, max_depth=6, score=0.539, total=  30.4s\n",
      "[CV] learning_rate=0.2, max_depth=6 ..................................\n",
      "[CV] ...... learning_rate=0.2, max_depth=6, score=0.541, total=  30.6s\n",
      "[CV] learning_rate=0.2, max_depth=6 ..................................\n",
      "[CV] ...... learning_rate=0.2, max_depth=6, score=0.553, total=  30.8s\n",
      "[CV] learning_rate=0.3, max_depth=4 ..................................\n",
      "[CV] ...... learning_rate=0.3, max_depth=4, score=0.502, total=  21.8s\n",
      "[CV] learning_rate=0.3, max_depth=4 ..................................\n",
      "[CV] ...... learning_rate=0.3, max_depth=4, score=0.506, total=  22.2s\n",
      "[CV] learning_rate=0.3, max_depth=4 ..................................\n",
      "[CV] ...... learning_rate=0.3, max_depth=4, score=0.513, total=  22.2s\n",
      "[CV] learning_rate=0.3, max_depth=5 ..................................\n",
      "[CV] ...... learning_rate=0.3, max_depth=5, score=0.532, total=  26.1s\n",
      "[CV] learning_rate=0.3, max_depth=5 ..................................\n",
      "[CV] ...... learning_rate=0.3, max_depth=5, score=0.533, total=  26.1s\n",
      "[CV] learning_rate=0.3, max_depth=5 ..................................\n",
      "[CV] ...... learning_rate=0.3, max_depth=5, score=0.544, total=  26.2s\n",
      "[CV] learning_rate=0.3, max_depth=6 ..................................\n",
      "[CV] ...... learning_rate=0.3, max_depth=6, score=0.571, total=  32.1s\n",
      "[CV] learning_rate=0.3, max_depth=6 ..................................\n",
      "[CV] ...... learning_rate=0.3, max_depth=6, score=0.564, total=  30.4s\n",
      "[CV] learning_rate=0.3, max_depth=6 ..................................\n",
      "[CV] ...... learning_rate=0.3, max_depth=6, score=0.584, total=  30.5s\n"
     ]
    },
    {
     "name": "stderr",
     "output_type": "stream",
     "text": [
      "[Parallel(n_jobs=1)]: Done  27 out of  27 | elapsed: 11.9min finished\n"
     ]
    },
    {
     "data": {
      "text/plain": [
       "GridSearchCV(cv=3, error_score='raise-deprecating',\n",
       "             estimator=XGBClassifier(base_score=0.5, booster='gbtree',\n",
       "                                     colsample_bylevel=1, colsample_bynode=1,\n",
       "                                     colsample_bytree=1, gamma=0,\n",
       "                                     learning_rate=0.1, max_delta_step=0,\n",
       "                                     max_depth=3, min_child_weight=1,\n",
       "                                     missing=None, n_estimators=100, n_jobs=1,\n",
       "                                     nthread=None, objective='binary:logistic',\n",
       "                                     random_state=0, reg_alpha=0, reg_lambda=1,\n",
       "                                     scale_pos_weight=1, seed=None, silent=None,\n",
       "                                     subsample=1, verbosity=1),\n",
       "             iid='warn', n_jobs=None,\n",
       "             param_grid={'learning_rate': [0.1, 0.2, 0.3],\n",
       "                         'max_depth': [4, 5, 6]},\n",
       "             pre_dispatch='2*n_jobs', refit=True, return_train_score=False,\n",
       "             scoring=None, verbose=3)"
      ]
     },
     "execution_count": 163,
     "metadata": {},
     "output_type": "execute_result"
    }
   ],
   "source": [
    "grid.fit(X_rs,y_rs)"
   ]
  },
  {
   "cell_type": "code",
   "execution_count": 164,
   "metadata": {},
   "outputs": [
    {
     "data": {
      "text/plain": [
       "{'learning_rate': 0.3, 'max_depth': 6}"
      ]
     },
     "execution_count": 164,
     "metadata": {},
     "output_type": "execute_result"
    }
   ],
   "source": [
    "grid.best_params_"
   ]
  },
  {
   "cell_type": "markdown",
   "metadata": {},
   "source": [
    "### Modeling Using Best Param"
   ]
  },
  {
   "cell_type": "code",
   "execution_count": 192,
   "metadata": {},
   "outputs": [],
   "source": [
    "gb = XGBClassifier(learning_rate=0.3,max_depth=6, n_estimators=900)"
   ]
  },
  {
   "cell_type": "code",
   "execution_count": 193,
   "metadata": {},
   "outputs": [
    {
     "data": {
      "text/plain": [
       "XGBClassifier(base_score=0.5, booster='gbtree', colsample_bylevel=1,\n",
       "              colsample_bynode=1, colsample_bytree=1, gamma=0,\n",
       "              learning_rate=0.3, max_delta_step=0, max_depth=6,\n",
       "              min_child_weight=1, missing=None, n_estimators=900, n_jobs=1,\n",
       "              nthread=None, objective='multi:softprob', random_state=0,\n",
       "              reg_alpha=0, reg_lambda=1, scale_pos_weight=1, seed=None,\n",
       "              silent=None, subsample=1, verbosity=1)"
      ]
     },
     "execution_count": 193,
     "metadata": {},
     "output_type": "execute_result"
    }
   ],
   "source": [
    "gb.fit(X_rs,y_rs)"
   ]
  },
  {
   "cell_type": "code",
   "execution_count": 194,
   "metadata": {},
   "outputs": [
    {
     "name": "stdout",
     "output_type": "stream",
     "text": [
      "              precision    recall  f1-score   support\n",
      "\n",
      "     Average       0.46      0.45      0.45      7171\n",
      "         Bad       0.60      0.60      0.60      2735\n",
      "        Good       0.70      0.71      0.70     13237\n",
      "\n",
      "    accuracy                           0.61     23143\n",
      "   macro avg       0.59      0.58      0.58     23143\n",
      "weighted avg       0.61      0.61      0.61     23143\n",
      "\n"
     ]
    }
   ],
   "source": [
    "prediction = gb.predict(X_test)\n",
    "print(classification_report(y_test,prediction))"
   ]
  },
  {
   "cell_type": "markdown",
   "metadata": {},
   "source": [
    "# Get Feature Importance"
   ]
  },
  {
   "cell_type": "code",
   "execution_count": 195,
   "metadata": {},
   "outputs": [
    {
     "data": {
      "text/plain": [
       "array([0.07799909, 0.07533606, 0.09851274, 0.10587206, 0.10681881,\n",
       "       0.20771754, 0.08632918, 0.10977723, 0.13163729], dtype=float32)"
      ]
     },
     "execution_count": 195,
     "metadata": {},
     "output_type": "execute_result"
    }
   ],
   "source": [
    "gb.feature_importances_"
   ]
  },
  {
   "cell_type": "code",
   "execution_count": 196,
   "metadata": {},
   "outputs": [],
   "source": [
    "dp = pd.DataFrame(gb.feature_importances_)\n",
    "dp['name'] = x.columns"
   ]
  },
  {
   "cell_type": "code",
   "execution_count": 197,
   "metadata": {},
   "outputs": [
    {
     "data": {
      "text/html": [
       "<div>\n",
       "<style scoped>\n",
       "    .dataframe tbody tr th:only-of-type {\n",
       "        vertical-align: middle;\n",
       "    }\n",
       "\n",
       "    .dataframe tbody tr th {\n",
       "        vertical-align: top;\n",
       "    }\n",
       "\n",
       "    .dataframe thead th {\n",
       "        text-align: right;\n",
       "    }\n",
       "</style>\n",
       "<table border=\"1\" class=\"dataframe\">\n",
       "  <thead>\n",
       "    <tr style=\"text-align: right;\">\n",
       "      <th></th>\n",
       "      <th>Feature_Importance</th>\n",
       "      <th>name</th>\n",
       "    </tr>\n",
       "  </thead>\n",
       "  <tbody>\n",
       "    <tr>\n",
       "      <th>5</th>\n",
       "      <td>0.207718</td>\n",
       "      <td>late_deliv</td>\n",
       "    </tr>\n",
       "    <tr>\n",
       "      <th>8</th>\n",
       "      <td>0.131637</td>\n",
       "      <td>voucher</td>\n",
       "    </tr>\n",
       "    <tr>\n",
       "      <th>7</th>\n",
       "      <td>0.109777</td>\n",
       "      <td>debit_card</td>\n",
       "    </tr>\n",
       "    <tr>\n",
       "      <th>4</th>\n",
       "      <td>0.106819</td>\n",
       "      <td>diff_delcar_delcus</td>\n",
       "    </tr>\n",
       "    <tr>\n",
       "      <th>3</th>\n",
       "      <td>0.105872</td>\n",
       "      <td>diff_app_delcar</td>\n",
       "    </tr>\n",
       "    <tr>\n",
       "      <th>2</th>\n",
       "      <td>0.098513</td>\n",
       "      <td>diff_purc_app</td>\n",
       "    </tr>\n",
       "    <tr>\n",
       "      <th>6</th>\n",
       "      <td>0.086329</td>\n",
       "      <td>credit_card</td>\n",
       "    </tr>\n",
       "    <tr>\n",
       "      <th>0</th>\n",
       "      <td>0.077999</td>\n",
       "      <td>cust_seller_same_city</td>\n",
       "    </tr>\n",
       "    <tr>\n",
       "      <th>1</th>\n",
       "      <td>0.075336</td>\n",
       "      <td>late_shipping</td>\n",
       "    </tr>\n",
       "  </tbody>\n",
       "</table>\n",
       "</div>"
      ],
      "text/plain": [
       "   Feature_Importance                   name\n",
       "5            0.207718             late_deliv\n",
       "8            0.131637                voucher\n",
       "7            0.109777             debit_card\n",
       "4            0.106819     diff_delcar_delcus\n",
       "3            0.105872        diff_app_delcar\n",
       "2            0.098513          diff_purc_app\n",
       "6            0.086329            credit_card\n",
       "0            0.077999  cust_seller_same_city\n",
       "1            0.075336          late_shipping"
      ]
     },
     "execution_count": 197,
     "metadata": {},
     "output_type": "execute_result"
    }
   ],
   "source": [
    "feature_imp = dp.sort_values(by=0,ascending=False).head(10)\n",
    "feature_imp.rename(columns={0: 'Feature_Importance', 'model': 'Name'}, inplace=True)\n",
    "feature_imp"
   ]
  },
  {
   "cell_type": "code",
   "execution_count": 198,
   "metadata": {},
   "outputs": [
    {
     "data": {
      "image/png": "[encoded data removed]",
      "text/plain": [
       "<Figure size 864x288 with 1 Axes>"
      ]
     },
     "metadata": {
      "needs_background": "light"
     },
     "output_type": "display_data"
    }
   ],
   "source": [
    "plt.figure(figsize=(12,4))\n",
    "plt.show(sns.barplot(x=feature_imp['Feature_Importance'],y=feature_imp['name']))"
   ]
  },
  {
   "cell_type": "markdown",
   "metadata": {},
   "source": [
    "**Conclusion :**\n",
    "\n",
    "> dari grafik di atas dapat dilihat bahwa keterlambatan pengiriman memiliki pengaruh yang besar terhadap rating dari customer, maka dari itu perlu dilakukan pengawasan terhadap quality delivery yang lebih kedepannya mengingat sensitifnya keterlambatan delivery terhadap penilaian dari customer.\n",
    "\n",
    "> Selain itu pembayaran menggunakan voucher juga mempengaruhi rating, hal ini bisa disebabkan karena pembayaran menggunakan voucher akan memudahkan customer dan customer yang berbelanja menggunakan voucher bisa jadi merupakan customer yang mendapatkan reward berupa voucher yang dapat digunakan untuk belanja di olist. Hal ini dapat menjadi insight untuk pihak olist bila hendak melakukan promosi dengan memberikan voucher belanja ke customer"
   ]
  }
 ],
 "metadata": {
  "kernelspec": {
   "display_name": "Python 3",
   "language": "python",
   "name": "python3"
  },
  "language_info": {
   "codemirror_mode": {
    "name": "ipython",
    "version": 3
   },
   "file_extension": ".py",
   "mimetype": "text/x-python",
   "name": "python",
   "nbconvert_exporter": "python",
   "pygments_lexer": "ipython3",
   "version": "3.7.3"
  }
 },
 "nbformat": 4,
 "nbformat_minor": 2
}
