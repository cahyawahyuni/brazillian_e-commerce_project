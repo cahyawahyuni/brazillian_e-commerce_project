{
 "cells": [
  {
   "cell_type": "code",
   "execution_count": 5,
   "metadata": {},
   "outputs": [],
   "source": [
    "import pickle\n",
    "from pandas import DataFrame, get_dummies\n",
    "\n",
    "real_columns = pickle.load(open('prod_cat_colomn.sav','rb'))"
   ]
  },
  {
   "cell_type": "code",
   "execution_count": 14,
   "metadata": {},
   "outputs": [],
   "source": [
    "df_demo = pickle.load(open('df_demo.sav','rb'))"
   ]
  },
  {
   "cell_type": "code",
   "execution_count": 17,
   "metadata": {},
   "outputs": [],
   "source": [
    "df_similarity = pickle.load(open('similarity.sav','rb'))"
   ]
  },
  {
   "cell_type": "code",
   "execution_count": 15,
   "metadata": {},
   "outputs": [],
   "source": [
    "def demo(x):\n",
    "    table = []\n",
    "    for item in x:\n",
    "        new_table = df_demo[df_demo['product_category_name_english']==item].sort_values(by='review_score',ascending=False).head(5)\n",
    "        table.append(new_table)\n",
    "    return table"
   ]
  },
  {
   "cell_type": "code",
   "execution_count": 16,
   "metadata": {},
   "outputs": [
    {
     "data": {
      "text/html": [
       "<div>\n",
       "<style scoped>\n",
       "    .dataframe tbody tr th:only-of-type {\n",
       "        vertical-align: middle;\n",
       "    }\n",
       "\n",
       "    .dataframe tbody tr th {\n",
       "        vertical-align: top;\n",
       "    }\n",
       "\n",
       "    .dataframe thead th {\n",
       "        text-align: right;\n",
       "    }\n",
       "</style>\n",
       "<table border=\"1\" class=\"dataframe\">\n",
       "  <thead>\n",
       "    <tr style=\"text-align: right;\">\n",
       "      <th></th>\n",
       "      <th>product_id</th>\n",
       "      <th>review_score</th>\n",
       "    </tr>\n",
       "  </thead>\n",
       "  <tbody>\n",
       "    <tr>\n",
       "      <th>19</th>\n",
       "      <td>5ef85fbb12f3f0fef4e3f96985c092a0</td>\n",
       "      <td>5.0</td>\n",
       "    </tr>\n",
       "    <tr>\n",
       "      <th>9109</th>\n",
       "      <td>e7ce29342574abe2fbf171df97fdb092</td>\n",
       "      <td>5.0</td>\n",
       "    </tr>\n",
       "    <tr>\n",
       "      <th>8562</th>\n",
       "      <td>1dd3a0b856546758b41e8ef9935f1831</td>\n",
       "      <td>5.0</td>\n",
       "    </tr>\n",
       "    <tr>\n",
       "      <th>8567</th>\n",
       "      <td>1de0af19bfefbea493eb82ef59bb2433</td>\n",
       "      <td>5.0</td>\n",
       "    </tr>\n",
       "    <tr>\n",
       "      <th>8570</th>\n",
       "      <td>ed47a454f5fbb920098724ccf04f86de</td>\n",
       "      <td>5.0</td>\n",
       "    </tr>\n",
       "  </tbody>\n",
       "</table>\n",
       "</div>"
      ],
      "text/plain": [
       "                            product_id  review_score\n",
       "19    5ef85fbb12f3f0fef4e3f96985c092a0           5.0\n",
       "9109  e7ce29342574abe2fbf171df97fdb092           5.0\n",
       "8562  1dd3a0b856546758b41e8ef9935f1831           5.0\n",
       "8567  1de0af19bfefbea493eb82ef59bb2433           5.0\n",
       "8570  ed47a454f5fbb920098724ccf04f86de           5.0"
      ]
     },
     "execution_count": 16,
     "metadata": {},
     "output_type": "execute_result"
    }
   ],
   "source": [
    "demo(['perfumery','health_beauty','housewares'])[2][['product_id','review_score']]"
   ]
  },
  {
   "cell_type": "code",
   "execution_count": 38,
   "metadata": {},
   "outputs": [
    {
     "data": {
      "text/plain": [
       "['sports_leisure', 'bed_bath_table', 'furniture_decor']"
      ]
     },
     "execution_count": 38,
     "metadata": {},
     "output_type": "execute_result"
    }
   ],
   "source": [
    "list(df_similarity['housewares'].sort_values(ascending=False)[1:4].index)"
   ]
  },
  {
   "cell_type": "code",
   "execution_count": 52,
   "metadata": {},
   "outputs": [],
   "source": [
    "def similarity(x):\n",
    "    top_list = []\n",
    "    for item in x:\n",
    "        top = list(df_similarity[item].sort_values(ascending=False).head(3).index)\n",
    "        top_list.append(top)\n",
    "    table = []\n",
    "    for item in top_list:\n",
    "        for elemen in item:\n",
    "            new_table = df_demo[df_demo['product_category_name_english']==elemen].sort_values(by='review_score',ascending=False).head(3)\n",
    "            table.append(new_table)\n",
    "    return table"
   ]
  },
  {
   "cell_type": "code",
   "execution_count": 65,
   "metadata": {},
   "outputs": [
    {
     "data": {
      "text/plain": [
       "[     product_category_name_english                        product_id  \\\n",
       " 0                        perfumery  00066f42aeeb9f3007548bb9d3f33c38   \n",
       " 9328                     perfumery  e57b2d6510f090860888171c76b42b21   \n",
       " 9475                     perfumery  2829a5eb8a0ac813672891b4c91f7c65   \n",
       " \n",
       "       review_score  \n",
       " 0              5.0  \n",
       " 9328           5.0  \n",
       " 9475           5.0  ,\n",
       "      product_category_name_english                        product_id  \\\n",
       " 3                    health_beauty  c5588523a52b41fd7e7340375e67b6cf   \n",
       " 8915                 health_beauty  1a432f73243abc5629393e03b5540da9   \n",
       " 8961                 health_beauty  f08d78a6e7eecc6f3f51fad33ce7be1b   \n",
       " \n",
       "       review_score  \n",
       " 3              5.0  \n",
       " 8915           5.0  \n",
       " 8961           5.0  ,\n",
       "      product_category_name_english                        product_id  \\\n",
       " 1                   bed_bath_table  5ef15970297e8282ea1f0e3ddc528503   \n",
       " 9131                bed_bath_table  e716e067c266c9785c18204cb3592422   \n",
       " 8958                bed_bath_table  f092d3abbc2f3281c56b4497e5c150f0   \n",
       " \n",
       "       review_score  \n",
       " 1              5.0  \n",
       " 9131           5.0  \n",
       " 8958           5.0  ,\n",
       "      product_category_name_english                        product_id  \\\n",
       " 3                    health_beauty  c5588523a52b41fd7e7340375e67b6cf   \n",
       " 8915                 health_beauty  1a432f73243abc5629393e03b5540da9   \n",
       " 8961                 health_beauty  f08d78a6e7eecc6f3f51fad33ce7be1b   \n",
       " \n",
       "       review_score  \n",
       " 3              5.0  \n",
       " 8915           5.0  \n",
       " 8961           5.0  ,\n",
       "      product_category_name_english                        product_id  \\\n",
       " 1                   bed_bath_table  5ef15970297e8282ea1f0e3ddc528503   \n",
       " 9131                bed_bath_table  e716e067c266c9785c18204cb3592422   \n",
       " 8958                bed_bath_table  f092d3abbc2f3281c56b4497e5c150f0   \n",
       " \n",
       "       review_score  \n",
       " 1              5.0  \n",
       " 9131           5.0  \n",
       " 8958           5.0  ,\n",
       "      product_category_name_english                        product_id  \\\n",
       " 49                  sports_leisure  5eaa343860dc445b3fd43d1b682809fd   \n",
       " 9057                sports_leisure  1909929bf0f282504162cf7e8290c4bd   \n",
       " 9098                sports_leisure  26679d24a4e81ddc13cce48ff1a9d001   \n",
       " \n",
       "       review_score  \n",
       " 49             5.0  \n",
       " 9057           5.0  \n",
       " 9098           5.0  ,\n",
       "      product_category_name_english                        product_id  \\\n",
       " 19                      housewares  5ef85fbb12f3f0fef4e3f96985c092a0   \n",
       " 9109                    housewares  e7ce29342574abe2fbf171df97fdb092   \n",
       " 8562                    housewares  1dd3a0b856546758b41e8ef9935f1831   \n",
       " \n",
       "       review_score  \n",
       " 19             5.0  \n",
       " 9109           5.0  \n",
       " 8562           5.0  ,\n",
       "      product_category_name_english                        product_id  \\\n",
       " 49                  sports_leisure  5eaa343860dc445b3fd43d1b682809fd   \n",
       " 9057                sports_leisure  1909929bf0f282504162cf7e8290c4bd   \n",
       " 9098                sports_leisure  26679d24a4e81ddc13cce48ff1a9d001   \n",
       " \n",
       "       review_score  \n",
       " 49             5.0  \n",
       " 9057           5.0  \n",
       " 9098           5.0  ,\n",
       "      product_category_name_english                        product_id  \\\n",
       " 1                   bed_bath_table  5ef15970297e8282ea1f0e3ddc528503   \n",
       " 9131                bed_bath_table  e716e067c266c9785c18204cb3592422   \n",
       " 8958                bed_bath_table  f092d3abbc2f3281c56b4497e5c150f0   \n",
       " \n",
       "       review_score  \n",
       " 1              5.0  \n",
       " 9131           5.0  \n",
       " 8958           5.0  ]"
      ]
     },
     "execution_count": 65,
     "metadata": {},
     "output_type": "execute_result"
    }
   ],
   "source": [
    "similarity(['perfumery','health_beauty','housewares'])"
   ]
  },
  {
   "cell_type": "code",
   "execution_count": 51,
   "metadata": {},
   "outputs": [
    {
     "data": {
      "text/plain": [
       "['sports_leisure', 'furniture_decor', 'pet_shop']"
      ]
     },
     "execution_count": 51,
     "metadata": {},
     "output_type": "execute_result"
    }
   ],
   "source": [
    "list({'sports_leisure': 'sports_leisure', 'furniture_decor': 'furniture_decor', 'pet_shop': 'pet_shop'}.keys())"
   ]
  }
 ],
 "metadata": {
  "kernelspec": {
   "display_name": "Python 3",
   "language": "python",
   "name": "python3"
  },
  "language_info": {
   "codemirror_mode": {
    "name": "ipython",
    "version": 3
   },
   "file_extension": ".py",
   "mimetype": "text/x-python",
   "name": "python",
   "nbconvert_exporter": "python",
   "pygments_lexer": "ipython3",
   "version": "3.7.3"
  }
 },
 "nbformat": 4,
 "nbformat_minor": 2
}
