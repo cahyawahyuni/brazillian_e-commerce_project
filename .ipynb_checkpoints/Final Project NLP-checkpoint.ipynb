{
 "cells": [
  {
   "cell_type": "markdown",
   "metadata": {},
   "source": [
    "# Natural Language Processing\n",
    "\n",
    "> Penggunaan NLP pada case kali ini adalah untuk mendapatkan insight terkait hal apa saja yang membuat customer senang, kecewa, ataupun netral. Penggunaan NLP kali ini bertujuan untuk mendapatkan top words dari keseluruhan review customer berdasarkan tiap-tiap ratingnya."
   ]
  },
  {
   "cell_type": "code",
   "execution_count": 1,
   "metadata": {},
   "outputs": [],
   "source": [
    "import pandas as pd\n",
    "import numpy as np\n",
    "import seaborn as sns\n",
    "import matplotlib.pyplot as plt\n",
    "from collections import Counter\n",
    "import nltk\n",
    "from nltk.corpus import stopwords\n",
    "from sklearn.model_selection import train_test_split\n",
    "from sklearn.feature_extraction.text import CountVectorizer, TfidfVectorizer\n",
    "import re\n",
    "import string\n",
    "import itertools\n",
    "from nltk.stem import RSLPStemmer\n",
    "import warnings\n",
    "warnings.filterwarnings('ignore')"
   ]
  },
  {
   "cell_type": "code",
   "execution_count": 2,
   "metadata": {},
   "outputs": [],
   "source": [
    "df_cust = pd.read_csv('olist_customers_dataset.csv')\n",
    "df_geo = pd.read_csv('olist_geolocation_dataset.csv')\n",
    "df_order = pd.read_csv('olist_order_items_dataset.csv')\n",
    "df_payment = pd.read_csv('olist_order_payments_dataset.csv')\n",
    "df_review = pd.read_csv('olist_order_reviews_dataset.csv') #belum clean\n",
    "df_delivery = pd.read_csv('olist_orders_dataset.csv')\n",
    "df_product = pd.read_csv('olist_products_dataset.csv') #belum clean\n",
    "df_seller = pd.read_csv('olist_sellers_dataset.csv')\n",
    "df_catprod = pd.read_csv('product_category_name_translation.csv')"
   ]
  },
  {
   "cell_type": "code",
   "execution_count": 3,
   "metadata": {},
   "outputs": [],
   "source": [
    "all_table = [df_cust, df_geo, df_order, df_payment, df_review, df_delivery, df_product, df_seller, df_catprod]\n",
    "name_table = ['Data Customer', 'Data Geografis', 'Data Order', 'Data Payment', 'Data Review', 'Data Delivery', 'Data Produk', 'Data Seller','Data Kategori Produk']"
   ]
  },
  {
   "cell_type": "markdown",
   "metadata": {},
   "source": [
    "# Pre Processing Data\n",
    "\n",
    "> Pre Processing data kali ini dilakukan untuk mendapatkan data yang akan kita gunakan saja, adapun data yang akan digunaka pada case ini adalah data **review comment** dan juga **review score**."
   ]
  },
  {
   "cell_type": "code",
   "execution_count": 4,
   "metadata": {},
   "outputs": [
    {
     "name": "stdout",
     "output_type": "stream",
     "text": [
      "<class 'pandas.core.frame.DataFrame'>\n",
      "RangeIndex: 100000 entries, 0 to 99999\n",
      "Data columns (total 7 columns):\n",
      "review_id                  100000 non-null object\n",
      "order_id                   100000 non-null object\n",
      "review_score               100000 non-null int64\n",
      "review_comment_title       11715 non-null object\n",
      "review_comment_message     41753 non-null object\n",
      "review_creation_date       100000 non-null object\n",
      "review_answer_timestamp    100000 non-null object\n",
      "dtypes: int64(1), object(6)\n",
      "memory usage: 5.3+ MB\n"
     ]
    }
   ],
   "source": [
    "df_review.info()"
   ]
  },
  {
   "cell_type": "code",
   "execution_count": 5,
   "metadata": {},
   "outputs": [
    {
     "data": {
      "text/html": [
       "<div>\n",
       "<style scoped>\n",
       "    .dataframe tbody tr th:only-of-type {\n",
       "        vertical-align: middle;\n",
       "    }\n",
       "\n",
       "    .dataframe tbody tr th {\n",
       "        vertical-align: top;\n",
       "    }\n",
       "\n",
       "    .dataframe thead th {\n",
       "        text-align: right;\n",
       "    }\n",
       "</style>\n",
       "<table border=\"1\" class=\"dataframe\">\n",
       "  <thead>\n",
       "    <tr style=\"text-align: right;\">\n",
       "      <th></th>\n",
       "      <th>review_id</th>\n",
       "      <th>order_id</th>\n",
       "      <th>review_score</th>\n",
       "      <th>review_comment_message</th>\n",
       "    </tr>\n",
       "  </thead>\n",
       "  <tbody>\n",
       "    <tr>\n",
       "      <th>3</th>\n",
       "      <td>e64fb393e7b32834bb789ff8bb30750e</td>\n",
       "      <td>658677c97b385a9be170737859d3511b</td>\n",
       "      <td>5</td>\n",
       "      <td>Recebi bem antes do prazo estipulado.</td>\n",
       "    </tr>\n",
       "    <tr>\n",
       "      <th>4</th>\n",
       "      <td>f7c4243c7fe1938f181bec41a392bdeb</td>\n",
       "      <td>8e6bfb81e283fa7e4f11123a3fb894f1</td>\n",
       "      <td>5</td>\n",
       "      <td>Parabéns lojas lannister adorei comprar pela I...</td>\n",
       "    </tr>\n",
       "    <tr>\n",
       "      <th>9</th>\n",
       "      <td>8670d52e15e00043ae7de4c01cc2fe06</td>\n",
       "      <td>b9bf720beb4ab3728760088589c62129</td>\n",
       "      <td>4</td>\n",
       "      <td>aparelho eficiente. no site a marca do aparelh...</td>\n",
       "    </tr>\n",
       "    <tr>\n",
       "      <th>12</th>\n",
       "      <td>4b49719c8a200003f700d3d986ea1a19</td>\n",
       "      <td>9d6f15f95d01e79bd1349cc208361f09</td>\n",
       "      <td>4</td>\n",
       "      <td>Mas um pouco ,travando...pelo valor ta Boa.\\r\\n</td>\n",
       "    </tr>\n",
       "    <tr>\n",
       "      <th>15</th>\n",
       "      <td>3948b09f7c818e2d86c9a546758b2335</td>\n",
       "      <td>e51478e7e277a83743b6f9991dbfa3fb</td>\n",
       "      <td>5</td>\n",
       "      <td>Vendedor confiável, produto ok e entrega antes...</td>\n",
       "    </tr>\n",
       "  </tbody>\n",
       "</table>\n",
       "</div>"
      ],
      "text/plain": [
       "                           review_id                          order_id  \\\n",
       "3   e64fb393e7b32834bb789ff8bb30750e  658677c97b385a9be170737859d3511b   \n",
       "4   f7c4243c7fe1938f181bec41a392bdeb  8e6bfb81e283fa7e4f11123a3fb894f1   \n",
       "9   8670d52e15e00043ae7de4c01cc2fe06  b9bf720beb4ab3728760088589c62129   \n",
       "12  4b49719c8a200003f700d3d986ea1a19  9d6f15f95d01e79bd1349cc208361f09   \n",
       "15  3948b09f7c818e2d86c9a546758b2335  e51478e7e277a83743b6f9991dbfa3fb   \n",
       "\n",
       "    review_score                             review_comment_message  \n",
       "3              5              Recebi bem antes do prazo estipulado.  \n",
       "4              5  Parabéns lojas lannister adorei comprar pela I...  \n",
       "9              4  aparelho eficiente. no site a marca do aparelh...  \n",
       "12             4    Mas um pouco ,travando...pelo valor ta Boa.\\r\\n  \n",
       "15             5  Vendedor confiável, produto ok e entrega antes...  "
      ]
     },
     "execution_count": 5,
     "metadata": {},
     "output_type": "execute_result"
    }
   ],
   "source": [
    "df_review.dropna(subset=['review_comment_message'],inplace=True)\n",
    "df_review.drop(columns=['review_comment_title','review_creation_date','review_answer_timestamp'], inplace=True)\n",
    "df_review.head()"
   ]
  },
  {
   "cell_type": "markdown",
   "metadata": {},
   "source": [
    "### Remove non-desired elements at the comments"
   ]
  },
  {
   "cell_type": "code",
   "execution_count": 6,
   "metadata": {},
   "outputs": [
    {
     "data": {
      "text/html": [
       "<div>\n",
       "<style scoped>\n",
       "    .dataframe tbody tr th:only-of-type {\n",
       "        vertical-align: middle;\n",
       "    }\n",
       "\n",
       "    .dataframe tbody tr th {\n",
       "        vertical-align: top;\n",
       "    }\n",
       "\n",
       "    .dataframe thead th {\n",
       "        text-align: right;\n",
       "    }\n",
       "</style>\n",
       "<table border=\"1\" class=\"dataframe\">\n",
       "  <thead>\n",
       "    <tr style=\"text-align: right;\">\n",
       "      <th></th>\n",
       "      <th>review_score</th>\n",
       "      <th>review_comment_message</th>\n",
       "      <th>review_comment_message_clean</th>\n",
       "    </tr>\n",
       "  </thead>\n",
       "  <tbody>\n",
       "    <tr>\n",
       "      <th>3</th>\n",
       "      <td>5</td>\n",
       "      <td>Recebi bem antes do prazo estipulado.</td>\n",
       "      <td>recebi bem antes do prazo estipulado</td>\n",
       "    </tr>\n",
       "    <tr>\n",
       "      <th>4</th>\n",
       "      <td>5</td>\n",
       "      <td>Parabéns lojas lannister adorei comprar pela I...</td>\n",
       "      <td>parabéns lojas lannister adorei comprar pela i...</td>\n",
       "    </tr>\n",
       "    <tr>\n",
       "      <th>9</th>\n",
       "      <td>4</td>\n",
       "      <td>aparelho eficiente. no site a marca do aparelh...</td>\n",
       "      <td>aparelho eficiente no site a marca do aparelho...</td>\n",
       "    </tr>\n",
       "    <tr>\n",
       "      <th>12</th>\n",
       "      <td>4</td>\n",
       "      <td>Mas um pouco ,travando...pelo valor ta Boa.\\r\\n</td>\n",
       "      <td>mas um pouco travando pelo valor ta boa</td>\n",
       "    </tr>\n",
       "    <tr>\n",
       "      <th>15</th>\n",
       "      <td>5</td>\n",
       "      <td>Vendedor confiável, produto ok e entrega antes...</td>\n",
       "      <td>vendedor confiável produto ok e entrega antes ...</td>\n",
       "    </tr>\n",
       "  </tbody>\n",
       "</table>\n",
       "</div>"
      ],
      "text/plain": [
       "    review_score                             review_comment_message  \\\n",
       "3              5              Recebi bem antes do prazo estipulado.   \n",
       "4              5  Parabéns lojas lannister adorei comprar pela I...   \n",
       "9              4  aparelho eficiente. no site a marca do aparelh...   \n",
       "12             4    Mas um pouco ,travando...pelo valor ta Boa.\\r\\n   \n",
       "15             5  Vendedor confiável, produto ok e entrega antes...   \n",
       "\n",
       "                         review_comment_message_clean  \n",
       "3                recebi bem antes do prazo estipulado  \n",
       "4   parabéns lojas lannister adorei comprar pela i...  \n",
       "9   aparelho eficiente no site a marca do aparelho...  \n",
       "12            mas um pouco travando pelo valor ta boa  \n",
       "15  vendedor confiável produto ok e entrega antes ...  "
      ]
     },
     "execution_count": 6,
     "metadata": {},
     "output_type": "execute_result"
    }
   ],
   "source": [
    "#remove \\r from reviews\n",
    "def clean_text(x):\n",
    "    remove_r = re.sub(\"\\r\",\" \", x)\n",
    "    return ' '.join(remove_r.split()).lower()\n",
    "\n",
    "#remove number from reviews\n",
    "def clean_number(x):\n",
    "    remove_number = re.sub(r'\\d+(?:\\.\\d*(?:[eE]\\d+))?', 'numero', x)\n",
    "    return ' '.join(remove_number.split()).lower()\n",
    "\n",
    "#remove currency\n",
    "def clean_curr(x):\n",
    "    remove_curr = re.sub(r'r\\$', ' ',x)\n",
    "    return ' '.join(remove_curr.split()).lower()\n",
    "\n",
    "#remove character\n",
    "def clean_char(x):\n",
    "    remove_char = re.sub(r'\\W', ' ', x)\n",
    "    return ' '.join(remove_char.split()).lower()\n",
    "df_review['review_comment_message_clean'] = df_review['review_comment_message'].apply(clean_text)\n",
    "df_review['review_comment_message_clean'] = df_review['review_comment_message_clean'].apply(clean_number)\n",
    "df_review['review_comment_message_clean'] = df_review['review_comment_message_clean'].apply(clean_curr)\n",
    "df_review['review_comment_message_clean'] = df_review['review_comment_message_clean'].apply(clean_char)\n",
    "df_review = df_review.drop(columns=['review_id','order_id'])\n",
    "df_review.head()"
   ]
  },
  {
   "cell_type": "markdown",
   "metadata": {},
   "source": [
    "### Stopword and Stemming"
   ]
  },
  {
   "cell_type": "code",
   "execution_count": 7,
   "metadata": {},
   "outputs": [],
   "source": [
    "def text_process(c):\n",
    "    nopunc = [char for char in c if char not in string.punctuation]\n",
    "    nopunc = ''.join(nopunc)\n",
    "    return [word.lower() for word in nopunc.split() if word.lower() not in stopwords.words('portuguese')]"
   ]
  },
  {
   "cell_type": "code",
   "execution_count": 8,
   "metadata": {},
   "outputs": [
    {
     "data": {
      "text/plain": [
       "3                     recebi bem antes prazo estipulado\n",
       "4     parabéns lojas lannister adorei comprar intern...\n",
       "9     aparelho eficiente site marca aparelho impress...\n",
       "12                          pouco travando valor ta boa\n",
       "15    vendedor confiável produto ok entrega antes prazo\n",
       "Name: review_comment_message_clean, dtype: object"
      ]
     },
     "execution_count": 8,
     "metadata": {},
     "output_type": "execute_result"
    }
   ],
   "source": [
    "df_review['review_comment_message_clean'] = df_review['review_comment_message_clean'].apply(text_process)\n",
    "df_review['review_comment_message_clean'] = df_review['review_comment_message_clean'].apply(lambda x: ' '.join(x))\n",
    "df_review['review_comment_message_clean'].head()"
   ]
  },
  {
   "cell_type": "code",
   "execution_count": 9,
   "metadata": {},
   "outputs": [
    {
     "name": "stderr",
     "output_type": "stream",
     "text": [
      "[nltk_data] Downloading package rslp to\n",
      "[nltk_data]     /Users/cahyawahyuni/nltk_data...\n",
      "[nltk_data]   Package rslp is already up-to-date!\n"
     ]
    },
    {
     "data": {
      "text/plain": [
       "True"
      ]
     },
     "execution_count": 9,
     "metadata": {},
     "output_type": "execute_result"
    }
   ],
   "source": [
    "import nltk\n",
    "nltk.download('rslp')"
   ]
  },
  {
   "cell_type": "code",
   "execution_count": 10,
   "metadata": {},
   "outputs": [
    {
     "data": {
      "text/html": [
       "<div>\n",
       "<style scoped>\n",
       "    .dataframe tbody tr th:only-of-type {\n",
       "        vertical-align: middle;\n",
       "    }\n",
       "\n",
       "    .dataframe tbody tr th {\n",
       "        vertical-align: top;\n",
       "    }\n",
       "\n",
       "    .dataframe thead th {\n",
       "        text-align: right;\n",
       "    }\n",
       "</style>\n",
       "<table border=\"1\" class=\"dataframe\">\n",
       "  <thead>\n",
       "    <tr style=\"text-align: right;\">\n",
       "      <th></th>\n",
       "      <th>review_score</th>\n",
       "      <th>review_comment_message</th>\n",
       "      <th>review_comment_message_clean</th>\n",
       "      <th>review_comment_message_steam</th>\n",
       "    </tr>\n",
       "  </thead>\n",
       "  <tbody>\n",
       "    <tr>\n",
       "      <th>3</th>\n",
       "      <td>5</td>\n",
       "      <td>Recebi bem antes do prazo estipulado.</td>\n",
       "      <td>recebi bem antes prazo estipulado</td>\n",
       "      <td>receb bem ant praz estipul</td>\n",
       "    </tr>\n",
       "    <tr>\n",
       "      <th>4</th>\n",
       "      <td>5</td>\n",
       "      <td>Parabéns lojas lannister adorei comprar pela I...</td>\n",
       "      <td>parabéns lojas lannister adorei comprar intern...</td>\n",
       "      <td>parabém loj lannist ador compr internet segur ...</td>\n",
       "    </tr>\n",
       "    <tr>\n",
       "      <th>9</th>\n",
       "      <td>4</td>\n",
       "      <td>aparelho eficiente. no site a marca do aparelh...</td>\n",
       "      <td>aparelho eficiente site marca aparelho impress...</td>\n",
       "      <td>aparelh efici sit marc aparelh impress numerod...</td>\n",
       "    </tr>\n",
       "    <tr>\n",
       "      <th>12</th>\n",
       "      <td>4</td>\n",
       "      <td>Mas um pouco ,travando...pelo valor ta Boa.\\r\\n</td>\n",
       "      <td>pouco travando valor ta boa</td>\n",
       "      <td>pouc trav val ta boa</td>\n",
       "    </tr>\n",
       "    <tr>\n",
       "      <th>15</th>\n",
       "      <td>5</td>\n",
       "      <td>Vendedor confiável, produto ok e entrega antes...</td>\n",
       "      <td>vendedor confiável produto ok entrega antes prazo</td>\n",
       "      <td>vend confi produt ok entreg ant praz</td>\n",
       "    </tr>\n",
       "  </tbody>\n",
       "</table>\n",
       "</div>"
      ],
      "text/plain": [
       "    review_score                             review_comment_message  \\\n",
       "3              5              Recebi bem antes do prazo estipulado.   \n",
       "4              5  Parabéns lojas lannister adorei comprar pela I...   \n",
       "9              4  aparelho eficiente. no site a marca do aparelh...   \n",
       "12             4    Mas um pouco ,travando...pelo valor ta Boa.\\r\\n   \n",
       "15             5  Vendedor confiável, produto ok e entrega antes...   \n",
       "\n",
       "                         review_comment_message_clean  \\\n",
       "3                   recebi bem antes prazo estipulado   \n",
       "4   parabéns lojas lannister adorei comprar intern...   \n",
       "9   aparelho eficiente site marca aparelho impress...   \n",
       "12                        pouco travando valor ta boa   \n",
       "15  vendedor confiável produto ok entrega antes prazo   \n",
       "\n",
       "                         review_comment_message_steam  \n",
       "3                          receb bem ant praz estipul  \n",
       "4   parabém loj lannist ador compr internet segur ...  \n",
       "9   aparelh efici sit marc aparelh impress numerod...  \n",
       "12                               pouc trav val ta boa  \n",
       "15               vend confi produt ok entreg ant praz  "
      ]
     },
     "execution_count": 10,
     "metadata": {},
     "output_type": "execute_result"
    }
   ],
   "source": [
    "def stem_processing(c):\n",
    "    stemmer = RSLPStemmer()\n",
    "    return list(map(lambda x: stemmer.stem(x), [word for word in c.split()]))\n",
    "df_review['review_comment_message_steam'] = df_review['review_comment_message_clean'].apply(stem_processing)\n",
    "df_review['review_comment_message_steam'] = df_review['review_comment_message_steam'].apply(lambda x: ' '.join(x))\n",
    "df_review.head()"
   ]
  },
  {
   "cell_type": "markdown",
   "metadata": {},
   "source": [
    "# TF/IDF"
   ]
  },
  {
   "cell_type": "code",
   "execution_count": 11,
   "metadata": {},
   "outputs": [],
   "source": [
    "from sklearn.feature_extraction.text import CountVectorizer, TfidfTransformer"
   ]
  },
  {
   "cell_type": "code",
   "execution_count": 12,
   "metadata": {},
   "outputs": [
    {
     "data": {
      "text/html": [
       "<div>\n",
       "<style scoped>\n",
       "    .dataframe tbody tr th:only-of-type {\n",
       "        vertical-align: middle;\n",
       "    }\n",
       "\n",
       "    .dataframe tbody tr th {\n",
       "        vertical-align: top;\n",
       "    }\n",
       "\n",
       "    .dataframe thead th {\n",
       "        text-align: right;\n",
       "    }\n",
       "</style>\n",
       "<table border=\"1\" class=\"dataframe\">\n",
       "  <thead>\n",
       "    <tr style=\"text-align: right;\">\n",
       "      <th></th>\n",
       "      <th>aa</th>\n",
       "      <th>aaa</th>\n",
       "      <th>aaaaaaaaaaaaaaaaaaaaaaaaaaaaaaaaaaaaaaaaaaaaaaaaaaaaa</th>\n",
       "      <th>aaguard</th>\n",
       "      <th>aaind</th>\n",
       "      <th>aanch</th>\n",
       "      <th>aaprelh</th>\n",
       "      <th>ab</th>\n",
       "      <th>aba</th>\n",
       "      <th>abaf</th>\n",
       "      <th>...</th>\n",
       "      <th>ônibu</th>\n",
       "      <th>ônu</th>\n",
       "      <th>ötim</th>\n",
       "      <th>últ</th>\n",
       "      <th>úmid</th>\n",
       "      <th>únic</th>\n",
       "      <th>úte</th>\n",
       "      <th>útel</th>\n",
       "      <th>útil</th>\n",
       "      <th>ünic</th>\n",
       "    </tr>\n",
       "  </thead>\n",
       "  <tbody>\n",
       "    <tr>\n",
       "      <th>0</th>\n",
       "      <td>0</td>\n",
       "      <td>0</td>\n",
       "      <td>0</td>\n",
       "      <td>0</td>\n",
       "      <td>0</td>\n",
       "      <td>0</td>\n",
       "      <td>0</td>\n",
       "      <td>0</td>\n",
       "      <td>0</td>\n",
       "      <td>0</td>\n",
       "      <td>...</td>\n",
       "      <td>0</td>\n",
       "      <td>0</td>\n",
       "      <td>0</td>\n",
       "      <td>0</td>\n",
       "      <td>0</td>\n",
       "      <td>0</td>\n",
       "      <td>0</td>\n",
       "      <td>0</td>\n",
       "      <td>0</td>\n",
       "      <td>0</td>\n",
       "    </tr>\n",
       "    <tr>\n",
       "      <th>1</th>\n",
       "      <td>0</td>\n",
       "      <td>0</td>\n",
       "      <td>0</td>\n",
       "      <td>0</td>\n",
       "      <td>0</td>\n",
       "      <td>0</td>\n",
       "      <td>0</td>\n",
       "      <td>0</td>\n",
       "      <td>0</td>\n",
       "      <td>0</td>\n",
       "      <td>...</td>\n",
       "      <td>0</td>\n",
       "      <td>0</td>\n",
       "      <td>0</td>\n",
       "      <td>0</td>\n",
       "      <td>0</td>\n",
       "      <td>0</td>\n",
       "      <td>0</td>\n",
       "      <td>0</td>\n",
       "      <td>0</td>\n",
       "      <td>0</td>\n",
       "    </tr>\n",
       "    <tr>\n",
       "      <th>2</th>\n",
       "      <td>0</td>\n",
       "      <td>0</td>\n",
       "      <td>0</td>\n",
       "      <td>0</td>\n",
       "      <td>0</td>\n",
       "      <td>0</td>\n",
       "      <td>0</td>\n",
       "      <td>0</td>\n",
       "      <td>0</td>\n",
       "      <td>0</td>\n",
       "      <td>...</td>\n",
       "      <td>0</td>\n",
       "      <td>0</td>\n",
       "      <td>0</td>\n",
       "      <td>0</td>\n",
       "      <td>0</td>\n",
       "      <td>0</td>\n",
       "      <td>0</td>\n",
       "      <td>0</td>\n",
       "      <td>0</td>\n",
       "      <td>0</td>\n",
       "    </tr>\n",
       "    <tr>\n",
       "      <th>3</th>\n",
       "      <td>0</td>\n",
       "      <td>0</td>\n",
       "      <td>0</td>\n",
       "      <td>0</td>\n",
       "      <td>0</td>\n",
       "      <td>0</td>\n",
       "      <td>0</td>\n",
       "      <td>0</td>\n",
       "      <td>0</td>\n",
       "      <td>0</td>\n",
       "      <td>...</td>\n",
       "      <td>0</td>\n",
       "      <td>0</td>\n",
       "      <td>0</td>\n",
       "      <td>0</td>\n",
       "      <td>0</td>\n",
       "      <td>0</td>\n",
       "      <td>0</td>\n",
       "      <td>0</td>\n",
       "      <td>0</td>\n",
       "      <td>0</td>\n",
       "    </tr>\n",
       "    <tr>\n",
       "      <th>4</th>\n",
       "      <td>0</td>\n",
       "      <td>0</td>\n",
       "      <td>0</td>\n",
       "      <td>0</td>\n",
       "      <td>0</td>\n",
       "      <td>0</td>\n",
       "      <td>0</td>\n",
       "      <td>0</td>\n",
       "      <td>0</td>\n",
       "      <td>0</td>\n",
       "      <td>...</td>\n",
       "      <td>0</td>\n",
       "      <td>0</td>\n",
       "      <td>0</td>\n",
       "      <td>0</td>\n",
       "      <td>0</td>\n",
       "      <td>0</td>\n",
       "      <td>0</td>\n",
       "      <td>0</td>\n",
       "      <td>0</td>\n",
       "      <td>0</td>\n",
       "    </tr>\n",
       "  </tbody>\n",
       "</table>\n",
       "<p>5 rows × 8310 columns</p>\n",
       "</div>"
      ],
      "text/plain": [
       "   aa  aaa  aaaaaaaaaaaaaaaaaaaaaaaaaaaaaaaaaaaaaaaaaaaaaaaaaaaaa  aaguard  \\\n",
       "0   0    0                                                  0            0   \n",
       "1   0    0                                                  0            0   \n",
       "2   0    0                                                  0            0   \n",
       "3   0    0                                                  0            0   \n",
       "4   0    0                                                  0            0   \n",
       "\n",
       "   aaind  aanch  aaprelh  ab  aba  abaf  ...  ônibu  ônu  ötim  últ  úmid  \\\n",
       "0      0      0        0   0    0     0  ...      0    0     0    0     0   \n",
       "1      0      0        0   0    0     0  ...      0    0     0    0     0   \n",
       "2      0      0        0   0    0     0  ...      0    0     0    0     0   \n",
       "3      0      0        0   0    0     0  ...      0    0     0    0     0   \n",
       "4      0      0        0   0    0     0  ...      0    0     0    0     0   \n",
       "\n",
       "   únic  úte  útel  útil  ünic  \n",
       "0     0    0     0     0     0  \n",
       "1     0    0     0     0     0  \n",
       "2     0    0     0     0     0  \n",
       "3     0    0     0     0     0  \n",
       "4     0    0     0     0     0  \n",
       "\n",
       "[5 rows x 8310 columns]"
      ]
     },
     "execution_count": 12,
     "metadata": {},
     "output_type": "execute_result"
    }
   ],
   "source": [
    "count_vectorizer_transformer = CountVectorizer().fit(df_review['review_comment_message_steam'])\n",
    "count_vectorizer_res = count_vectorizer_transformer.transform(df_review['review_comment_message_steam'])\n",
    "pd.DataFrame(count_vectorizer_res.todense(), columns=count_vectorizer_transformer.get_feature_names()).head()"
   ]
  },
  {
   "cell_type": "code",
   "execution_count": 13,
   "metadata": {},
   "outputs": [],
   "source": [
    "tf_idf_transformer = TfidfTransformer().fit(count_vectorizer_res)\n",
    "tf_idf_res = tf_idf_transformer.transform(count_vectorizer_res)"
   ]
  },
  {
   "cell_type": "code",
   "execution_count": 14,
   "metadata": {},
   "outputs": [],
   "source": [
    "df_tf_idf = pd.DataFrame(tf_idf_res.todense(), columns=count_vectorizer_transformer.get_feature_names())"
   ]
  },
  {
   "cell_type": "code",
   "execution_count": 15,
   "metadata": {},
   "outputs": [
    {
     "data": {
      "text/html": [
       "<div>\n",
       "<style scoped>\n",
       "    .dataframe tbody tr th:only-of-type {\n",
       "        vertical-align: middle;\n",
       "    }\n",
       "\n",
       "    .dataframe tbody tr th {\n",
       "        vertical-align: top;\n",
       "    }\n",
       "\n",
       "    .dataframe thead th {\n",
       "        text-align: right;\n",
       "    }\n",
       "</style>\n",
       "<table border=\"1\" class=\"dataframe\">\n",
       "  <thead>\n",
       "    <tr style=\"text-align: right;\">\n",
       "      <th></th>\n",
       "      <th>review_score</th>\n",
       "      <th>review_comment_message</th>\n",
       "      <th>review_comment_message_clean</th>\n",
       "      <th>review_comment_message_steam</th>\n",
       "      <th>meaningfull_words</th>\n",
       "    </tr>\n",
       "  </thead>\n",
       "  <tbody>\n",
       "    <tr>\n",
       "      <th>3</th>\n",
       "      <td>5</td>\n",
       "      <td>Recebi bem antes do prazo estipulado.</td>\n",
       "      <td>recebi bem antes prazo estipulado</td>\n",
       "      <td>receb bem ant praz estipul</td>\n",
       "      <td>[estipul, bem, ant]</td>\n",
       "    </tr>\n",
       "    <tr>\n",
       "      <th>4</th>\n",
       "      <td>5</td>\n",
       "      <td>Parabéns lojas lannister adorei comprar pela I...</td>\n",
       "      <td>parabéns lojas lannister adorei comprar intern...</td>\n",
       "      <td>parabém loj lannist ador compr internet segur ...</td>\n",
       "      <td>[pásco, parabém, prát]</td>\n",
       "    </tr>\n",
       "    <tr>\n",
       "      <th>9</th>\n",
       "      <td>4</td>\n",
       "      <td>aparelho eficiente. no site a marca do aparelh...</td>\n",
       "      <td>aparelho eficiente site marca aparelho impress...</td>\n",
       "      <td>aparelh efici sit marc aparelh impress numerod...</td>\n",
       "      <td>[aparelh, marc, numerodesinfec]</td>\n",
       "    </tr>\n",
       "    <tr>\n",
       "      <th>12</th>\n",
       "      <td>4</td>\n",
       "      <td>Mas um pouco ,travando...pelo valor ta Boa.\\r\\n</td>\n",
       "      <td>pouco travando valor ta boa</td>\n",
       "      <td>pouc trav val ta boa</td>\n",
       "      <td>[trav, ta, pouc]</td>\n",
       "    </tr>\n",
       "    <tr>\n",
       "      <th>15</th>\n",
       "      <td>5</td>\n",
       "      <td>Vendedor confiável, produto ok e entrega antes...</td>\n",
       "      <td>vendedor confiável produto ok entrega antes prazo</td>\n",
       "      <td>vend confi produt ok entreg ant praz</td>\n",
       "      <td>[confi, ok, vend]</td>\n",
       "    </tr>\n",
       "  </tbody>\n",
       "</table>\n",
       "</div>"
      ],
      "text/plain": [
       "    review_score                             review_comment_message  \\\n",
       "3              5              Recebi bem antes do prazo estipulado.   \n",
       "4              5  Parabéns lojas lannister adorei comprar pela I...   \n",
       "9              4  aparelho eficiente. no site a marca do aparelh...   \n",
       "12             4    Mas um pouco ,travando...pelo valor ta Boa.\\r\\n   \n",
       "15             5  Vendedor confiável, produto ok e entrega antes...   \n",
       "\n",
       "                         review_comment_message_clean  \\\n",
       "3                   recebi bem antes prazo estipulado   \n",
       "4   parabéns lojas lannister adorei comprar intern...   \n",
       "9   aparelho eficiente site marca aparelho impress...   \n",
       "12                        pouco travando valor ta boa   \n",
       "15  vendedor confiável produto ok entrega antes prazo   \n",
       "\n",
       "                         review_comment_message_steam  \\\n",
       "3                          receb bem ant praz estipul   \n",
       "4   parabém loj lannist ador compr internet segur ...   \n",
       "9   aparelh efici sit marc aparelh impress numerod...   \n",
       "12                               pouc trav val ta boa   \n",
       "15               vend confi produt ok entreg ant praz   \n",
       "\n",
       "                  meaningfull_words  \n",
       "3               [estipul, bem, ant]  \n",
       "4            [pásco, parabém, prát]  \n",
       "9   [aparelh, marc, numerodesinfec]  \n",
       "12                 [trav, ta, pouc]  \n",
       "15                [confi, ok, vend]  "
      ]
     },
     "execution_count": 15,
     "metadata": {},
     "output_type": "execute_result"
    }
   ],
   "source": [
    "meaningfull_words = []\n",
    "for item in range(len(df_tf_idf)):\n",
    "    words = list(df_tf_idf.iloc[item].sort_values(ascending=False).head(3).index)\n",
    "    meaningfull_words.append(words)\n",
    "    \n",
    "df_review['meaningfull_words'] = meaningfull_words\n",
    "df_review.head()"
   ]
  },
  {
   "cell_type": "markdown",
   "metadata": {},
   "source": [
    "## EDA"
   ]
  },
  {
   "cell_type": "code",
   "execution_count": 16,
   "metadata": {
    "scrolled": false
   },
   "outputs": [
    {
     "name": "stderr",
     "output_type": "stream",
     "text": [
      "[nltk_data] Downloading package stopwords to\n",
      "[nltk_data]     /Users/cahyawahyuni/nltk_data...\n",
      "[nltk_data]   Package stopwords is already up-to-date!\n"
     ]
    }
   ],
   "source": [
    "import nltk\n",
    "from nltk.corpus import stopwords\n",
    "nltk.download('stopwords')\n",
    "from collections import Counter"
   ]
  },
  {
   "cell_type": "code",
   "execution_count": 17,
   "metadata": {},
   "outputs": [],
   "source": [
    "from googletrans import Translator\n",
    "translator = Translator()"
   ]
  },
  {
   "cell_type": "code",
   "execution_count": 37,
   "metadata": {},
   "outputs": [],
   "source": [
    "def graph_most_words_appear(data):\n",
    "    all_words = ' '.join(list(data))\n",
    "    list_all_words = all_words.split()\n",
    "    word_count = Counter(list_all_words)\n",
    "    word_count_series = pd.Series(word_count)\n",
    "    word_wo_stopwords = []\n",
    "    for item in word_count_series.index:\n",
    "        if (item not in stopwords.words('portuguese')):\n",
    "            word_wo_stopwords.append(item)\n",
    "    word_count_series = word_count_series.loc[word_wo_stopwords]\n",
    "    most_words_appear = word_count_series.sort_values(ascending=False).head(20)\n",
    "    sns.set_style('whitegrid')\n",
    "    plt.figure(figsize=(15,5))\n",
    "    sns.barplot(most_words_appear.index,most_words_appear.values)\n",
    "    eng_word = []\n",
    "    for item in list(most_words_appear.index):\n",
    "        word = translator.translate(item, dest='English').text\n",
    "        eng_word.append(word)\n",
    "    plt.show()\n",
    "    print(eng_word)"
   ]
  },
  {
   "cell_type": "code",
   "execution_count": 39,
   "metadata": {},
   "outputs": [
    {
     "data": {
      "image/png": "[encoded data removed]",
      "text/plain": [
       "<Figure size 1080x360 with 1 Axes>"
      ]
     },
     "metadata": {},
     "output_type": "display_data"
    },
    {
     "name": "stdout",
     "output_type": "stream",
     "text": [
      "['product', 'number', 'I received', 'I bought', 'still', 'delivered', 'came', 'delivery', 'has arrived', 'not', 'purchase', 'term', 'order', 'day', 'store', 'now', 'lannister', 'nothing', 'I want', 'because']\n"
     ]
    }
   ],
   "source": [
    "graph_most_words_appear(df_review[df_review['review_score'] == 1]['review_comment_message_clean'])"
   ]
  },
  {
   "cell_type": "code",
   "execution_count": 40,
   "metadata": {},
   "outputs": [
    {
     "data": {
      "image/png": "[encoded data removed]",
      "text/plain": [
       "<Figure size 1080x360 with 1 Axes>"
      ]
     },
     "metadata": {},
     "output_type": "display_data"
    },
    {
     "name": "stdout",
     "output_type": "stream",
     "text": [
      "['product', 'number', 'I received', 'came', 'delivery', 'I bought', 'has arrived', 'still', 'delivered', 'term', 'purchase', 'order', 'store', 'however', 'not', 'day', 'quality', 'products', 'because', 'only']\n"
     ]
    }
   ],
   "source": [
    "graph_most_words_appear(df_review[df_review['review_score'] == 2]['review_comment_message_clean'])"
   ]
  },
  {
   "cell_type": "code",
   "execution_count": 41,
   "metadata": {},
   "outputs": [
    {
     "data": {
      "image/png": "[encoded data removed]",
      "text/plain": [
       "<Figure size 1080x360 with 1 Axes>"
      ]
     },
     "metadata": {},
     "output_type": "display_data"
    },
    {
     "name": "stdout",
     "output_type": "stream",
     "text": [
      "['product', 'number', 'I received', 'came', 'delivery', 'term', 'good', 'has arrived', 'I bought', 'delivered', 'still', 'however', 'good', 'not', 'purchase', 'quality', 'to be', 'liked it', 'store', 'before']\n"
     ]
    }
   ],
   "source": [
    "graph_most_words_appear(df_review[df_review['review_score'] == 3]['review_comment_message_clean'])"
   ]
  },
  {
   "cell_type": "code",
   "execution_count": 42,
   "metadata": {},
   "outputs": [
    {
     "data": {
      "image/png": "[encoded data removed]",
      "text/plain": [
       "<Figure size 1080x360 with 1 Axes>"
      ]
     },
     "metadata": {},
     "output_type": "display_data"
    },
    {
     "name": "stdout",
     "output_type": "stream",
     "text": [
      "['product', 'term', 'good', 'delivery', 'has arrived', 'before', 'number', 'I recommend', 'good', 'delivered', 'came', 'all', 'I received', 'liked it', 'quality', 'inside', 'good', 'store', 'still', 'to be']\n"
     ]
    }
   ],
   "source": [
    "graph_most_words_appear(df_review[df_review['review_score'] == 4]['review_comment_message_clean'])"
   ]
  },
  {
   "cell_type": "code",
   "execution_count": 43,
   "metadata": {},
   "outputs": [
    {
     "data": {
      "image/png": "[encoded data removed]",
      "text/plain": [
       "<Figure size 1080x360 with 1 Axes>"
      ]
     },
     "metadata": {},
     "output_type": "display_data"
    },
    {
     "name": "stdout",
     "output_type": "stream",
     "text": [
      "['product', 'term', 'before', 'delivery', 'I recommend', 'has arrived', 'good', 'good', 'quality', 'delivered', 'all', 'Excellent', 'great', 'super', 'number', 'store', 'fast', 'I received', 'liked it', 'purchase']\n"
     ]
    }
   ],
   "source": [
    "graph_most_words_appear(df_review[df_review['review_score'] == 5]['review_comment_message_clean'])"
   ]
  },
  {
   "cell_type": "code",
   "execution_count": 19,
   "metadata": {},
   "outputs": [],
   "source": [
    "def show_most_words_appear(data):\n",
    "    all_words = ' '.join(list(data))\n",
    "    list_all_words = all_words.split()\n",
    "    word_count = Counter(list_all_words)\n",
    "    word_count_series = pd.Series(word_count)\n",
    "    word_wo_stopwords = []\n",
    "    for item in word_count_series.index:\n",
    "        if (item not in stopwords.words('portuguese')):\n",
    "            word_wo_stopwords.append(item)\n",
    "    word_count_series = word_count_series.loc[word_wo_stopwords]\n",
    "    most_words_appear = word_count_series.sort_values(ascending=False).head(20)\n",
    "    return most_words_appear"
   ]
  },
  {
   "cell_type": "code",
   "execution_count": 33,
   "metadata": {},
   "outputs": [],
   "source": [
    "data_satu = pd.DataFrame(show_most_words_appear(df_review[df_review['review_score'] == 1]['review_comment_message_clean'])).reset_index().rename(columns={'index':'word',0:'appear'})\n",
    "eng_word_satu = []\n",
    "for item in list(data_satu['word']):\n",
    "    word = translator.translate(item, dest='English').text\n",
    "    eng_word_satu.append(word)\n",
    "    \n",
    "data_dua = pd.DataFrame(show_most_words_appear(df_review[df_review['review_score'] == 2]['review_comment_message_clean'])).reset_index().rename(columns={'index':'word',0:'appear'})\n",
    "eng_word_dua = []\n",
    "for item in list(data_dua['word']):\n",
    "    word = translator.translate(item, dest='English').text\n",
    "    eng_word_dua.append(word)\n",
    "    \n",
    "data_tiga = pd.DataFrame(show_most_words_appear(df_review[df_review['review_score'] == 3]['review_comment_message_clean'])).reset_index().rename(columns={'index':'word',0:'appear'})\n",
    "eng_word_tiga = []\n",
    "for item in list(data_tiga['word']):\n",
    "    word = translator.translate(item, dest='English').text\n",
    "    eng_word_tiga.append(word)\n",
    "    \n",
    "data_empat = pd.DataFrame(show_most_words_appear(df_review[df_review['review_score'] == 4]['review_comment_message_clean'])).reset_index().rename(columns={'index':'word',0:'appear'})\n",
    "eng_word_empat = []\n",
    "for item in list(data_empat['word']):\n",
    "    word = translator.translate(item, dest='English').text\n",
    "    eng_word_empat.append(word)\n",
    "    \n",
    "data_lima = pd.DataFrame(show_most_words_appear(df_review[df_review['review_score'] == 5]['review_comment_message_clean'])).reset_index().rename(columns={'index':'word',0:'appear'})\n",
    "eng_word_lima = []\n",
    "for item in list(data_lima['word']):\n",
    "    word = translator.translate(item, dest='English').text\n",
    "    eng_word_lima.append(word)"
   ]
  },
  {
   "cell_type": "code",
   "execution_count": 36,
   "metadata": {},
   "outputs": [],
   "source": [
    "import pickle\n",
    "filename = 'data_satu.sav'\n",
    "pickle.dump(data_satu, open(filename , 'wb'))\n",
    "\n",
    "filename = 'data_dua.sav'\n",
    "pickle.dump(data_dua, open(filename , 'wb'))\n",
    "\n",
    "filename = 'data_tiga.sav'\n",
    "pickle.dump(data_tiga, open(filename , 'wb'))\n",
    "\n",
    "filename = 'data_empat.sav'\n",
    "pickle.dump(data_empat, open(filename , 'wb'))\n",
    "\n",
    "filename = 'data_lima.sav'\n",
    "pickle.dump(data_lima, open(filename , 'wb'))\n",
    "\n",
    "filename = 'eng_word_satu.sav'\n",
    "pickle.dump(eng_word_satu, open(filename , 'wb'))\n",
    "\n",
    "filename = 'eng_word_dua.sav'\n",
    "pickle.dump(eng_word_dua, open(filename , 'wb'))\n",
    "\n",
    "filename = 'eng_word_tiga.sav'\n",
    "pickle.dump(eng_word_tiga, open(filename , 'wb'))\n",
    "\n",
    "filename = 'eng_word_empat.sav'\n",
    "pickle.dump(eng_word_empat, open(filename , 'wb'))\n",
    "\n",
    "filename = 'eng_word_lima.sav'\n",
    "pickle.dump(eng_word_lima, open(filename , 'wb'))"
   ]
  },
  {
   "cell_type": "markdown",
   "metadata": {},
   "source": [
    "# Conclusion\n",
    "\n",
    "Setelah melakukan pre processing dan processing data review comment serta review score, terdapat 3 kata utama yang selalu muncul di tiap rating:\n",
    "\n",
    "- product\n",
    "- delivery\n",
    "- quality\n",
    "\n",
    "Hal ini berarti bahwa 'produk, pengiriman, dan kualitas' merupakan hal yang sangat sensitif terhadap keputusan customer dalam memberikan rating."
   ]
  }
 ],
 "metadata": {
  "kernelspec": {
   "display_name": "Python 3",
   "language": "python",
   "name": "python3"
  },
  "language_info": {
   "codemirror_mode": {
    "name": "ipython",
    "version": 3
   },
   "file_extension": ".py",
   "mimetype": "text/x-python",
   "name": "python",
   "nbconvert_exporter": "python",
   "pygments_lexer": "ipython3",
   "version": "3.7.3"
  }
 },
 "nbformat": 4,
 "nbformat_minor": 2
}
